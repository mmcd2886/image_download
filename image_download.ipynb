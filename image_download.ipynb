{
 "cells": [
  {
   "cell_type": "code",
   "execution_count": null,
   "metadata": {},
   "outputs": [],
   "source": [
    "import requests\n",
    "from pathlib import Path \n",
    "import csv \n",
    "import time \n",
    "import os\n",
    "\n",
    "#enter file path to images.csv\n",
    "file_path = 'one.csv'\n",
    "#enter the file path to folder where downloads will be saved\n",
    "dir_path = '/media/admin-dir/Seagate Expansion Drive/images_one'\n",
    "\n",
    "print(\"Start\", file_path)\n",
    "with open(file_path, newline= '') as csv_file:\n",
    "    cik_reader = csv.reader(csv_file)\n",
    "    for line in cik_reader:\n",
    "        line = ''.join(line)\n",
    "        line = 'https://5-207-10727-6.b.cdn12.com/' + line.rstrip()\n",
    "        #extract name of file from url and save to file_name variable\n",
    "        file_name = (os.path.basename(line))\n",
    "        #create path where downloaded file will be saved\n",
    "        download_path = os.path.join(dir_path, file_name)\n",
    "        #try three times to request the link download the file from url        \n",
    "        for retry in range (3):\n",
    "            try:\n",
    "                download = requests.get(line)\n",
    "                with open(download_path, \"wb\") as file:\n",
    "                    file.write(download.content)\n",
    "            except Exception as error:\n",
    "                print(\"## ERROR ##: \", line, error)\n",
    "                time.sleep(5)\n",
    "                continue\n",
    "            else:\n",
    "                break\n",
    "    print(\"Finished\")"
   ]
  }
 ],
 "metadata": {
  "kernelspec": {
   "display_name": "Python 3",
   "language": "python",
   "name": "python3"
  },
  "language_info": {
   "codemirror_mode": {
    "name": "ipython",
    "version": 3
   },
   "file_extension": ".py",
   "mimetype": "text/x-python",
   "name": "python",
   "nbconvert_exporter": "python",
   "pygments_lexer": "ipython3",
   "version": "3.8.3"
  }
 },
 "nbformat": 4,
 "nbformat_minor": 2
}
